{
 "cells": [
  {
   "cell_type": "code",
   "execution_count": 1,
   "id": "e8da4350",
   "metadata": {},
   "outputs": [
    {
     "name": "stdout",
     "output_type": "stream",
     "text": [
      "20\n",
      "20\n"
     ]
    }
   ],
   "source": [
    "#1. Write a Python function called add_numbers that takes two numbers as arguments and returns their sum. Then, test the function by calling it with two numbers of your choice.\n",
    "\n",
    "def add_numbers (a ,b):\n",
    "    print (a+b)\n",
    "\n",
    "add_numbers(12,8)\n",
    "add_numbers(2,18)"
   ]
  },
  {
   "cell_type": "code",
   "execution_count": 2,
   "id": "c63061f9",
   "metadata": {},
   "outputs": [
    {
     "name": "stdout",
     "output_type": "stream",
     "text": [
      "4600\n"
     ]
    }
   ],
   "source": [
    "#2. Create a Python function called currency_converter() that takes two arguments:\n",
    "\n",
    "#- amount: The amount of money to be converted (in USD).\n",
    "#- exchange_rate (default is 280): The conversion rate from USD to another currency (e.g., PKR). You can assume the default rate is 1 USD = 280 PKR.\n",
    "\n",
    "#The function should return a message showing how much the given amount is worth in the target currency (PKR).\n",
    "\n",
    "def a (a ,converted_ammount = 200):\n",
    "    b = a *200\n",
    "    print(b)\n",
    "\n",
    "a(23)"
   ]
  },
  {
   "cell_type": "code",
   "execution_count": 3,
   "id": "a1fb43c2",
   "metadata": {},
   "outputs": [
    {
     "name": "stdout",
     "output_type": "stream",
     "text": [
      "Your name is  ali\n",
      "Your age is  34\n",
      "Your grade is  A+\n",
      "Your school is  formen\n"
     ]
    }
   ],
   "source": [
    "#3. Write a Python function display_student_info that accepts the following details about a student:\n",
    "\n",
    "#- name (Keyword argument): The name of the student.\n",
    "#- age (Keyword argument): The age of the student.\n",
    "#- grade (Keyword argument): The grade the student is in.\n",
    "#- school (Keyword argument): The name of the school the student attends.\n",
    "\n",
    "def info(*, name, age, grade, school):\n",
    "    print(f\"Your name is \" ,name)\n",
    "    print(f\"Your age is \" , age)\n",
    "    print(f\"Your grade is \", grade)\n",
    "    print(f\"Your school is \" ,school)\n",
    "\n",
    "info(name=\"ali\", age=34, grade=\"A+\", school=\"formen\")"
   ]
  },
  {
   "cell_type": "code",
   "execution_count": 4,
   "id": "ff55d8c3",
   "metadata": {},
   "outputs": [
    {
     "name": "stdout",
     "output_type": "stream",
     "text": [
      "8\n"
     ]
    }
   ],
   "source": [
    "#4. Write a Python function calculate_price that accepts two positional arguments:\n",
    "\n",
    "#- price: The price of a single item.\n",
    "#- quantity: The number of items bought.\n",
    "#- The function should return the total price by multiplying price and quantity.\n",
    "\n",
    "def calcu_sum (a,b):\n",
    "    # a = input(\"Enter the product price : \")\n",
    "    # b = input(\"Enter the cout of product\")\n",
    "    c = a*b\n",
    "    print(c)\n",
    "\n",
    "\n",
    "calcu_sum(2, 4)"
   ]
  },
  {
   "cell_type": "code",
   "execution_count": 5,
   "id": "7b6832ff",
   "metadata": {},
   "outputs": [
    {
     "name": "stdout",
     "output_type": "stream",
     "text": [
      "Product: Laptop\n",
      "Amazon: $800\n",
      "eBay: $750\n",
      "Walmart: $780\n"
     ]
    }
   ],
   "source": [
    "#5. Write a Python function display_prices that takes a product name and an arbitrary number of keyword arguments representing product prices. The function should display each product and its price.\n",
    "#Product: Laptop\n",
    "#Amazon: $800\n",
    "#eBay: $750\n",
    "#Walmart: $780\n",
    "\n",
    "def display_prices(product, **prices):\n",
    "    print(f\"Product: {product}\")\n",
    "    for store, price in prices.items():\n",
    "        print(f\"{store}: ${price}\")\n",
    "\n",
    "display_prices(\"Laptop\", Amazon=800, eBay=750, Walmart=780)\n"
   ]
  },
  {
   "cell_type": "code",
   "execution_count": 6,
   "id": "a503038c",
   "metadata": {},
   "outputs": [
    {
     "name": "stdout",
     "output_type": "stream",
     "text": [
      "4\n"
     ]
    }
   ],
   "source": [
    "#6. Write a Python function find_max that takes any number of numerical arguments and returns the maximum number.\n",
    "\n",
    "def find_max(*numbers):\n",
    "    return max(numbers)\n",
    "\n",
    "a=find_max(2,3,4)\n",
    "print(a)\n"
   ]
  },
  {
   "cell_type": "code",
   "execution_count": 7,
   "id": "7acadcd8",
   "metadata": {},
   "outputs": [
    {
     "name": "stdout",
     "output_type": "stream",
     "text": [
      "Name Alice\n",
      "Age 30\n",
      " Other Details:\n",
      "    - address: 123 Main St\n",
      "    - phone: 123-456-7890\n",
      "    - email: alice@example.com\n"
     ]
    }
   ],
   "source": [
    "# 7. Write a Python function display_info that takes:\n",
    "# Positional arguments for the name and age of a person.\n",
    "# Keyword arguments for other personal details like address, phone number, and email.\n",
    "# Example Output:\n",
    "\n",
    "# - Name: Alice\n",
    "# - Age: 30\n",
    "# - Other Details:\n",
    "#     - address: 123 Main St\n",
    "#     - phone: 123-456-7890\n",
    "#     - email: alice@example.com\n",
    "\n",
    "\n",
    "def display_info(name, age, **other_details):\n",
    "    print(\"Name\" ,name)\n",
    "    print(\"Age\" ,age)\n",
    "    print(\" Other Details:\")\n",
    "    for key, value in other_details.items():\n",
    "        print(f\"    - {key}: {value}\")\n",
    "\n",
    "\n",
    "display_info(\"Alice\", 30, address=\"123 Main St\", phone=\"123-456-7890\", email=\"alice@example.com\")\n",
    "\n"
   ]
  },
  {
   "cell_type": "code",
   "execution_count": 8,
   "id": "967a0198",
   "metadata": {},
   "outputs": [
    {
     "name": "stdout",
     "output_type": "stream",
     "text": [
      "In-stock product names: ['Laptop', 'Headphones', 'Smartwatch', 'Keyboard']\n",
      "Discounted prices: [('Laptop', 1080.0), ('Headphones', 120.0), ('Smartwatch', 300), ('Keyboard', 85.0)]\n"
     ]
    }
   ],
   "source": [
    "# a8. products = [ {\"name\": \"Laptop\", \"price\": 1200, \"in_stock\": True, \"discount\": 0.1}, {\"name\": \"Smartphone\", \"price\": 800, \"in_stock\": False, \"discount\": 0.05}, {\"name\": \"Headphones\", \"price\": 150, \"in_stock\": True, \"discount\": 0.2}, {\"name\": \"Smartwatch\", \"price\": 300, \"in_stock\": True, \"discount\": 0}, {\"name\": \"Keyboard\", \"price\": 100, \"in_stock\": True, \"discount\": 0.15} ]\n",
    "\n",
    "# - Get names of in-stock products:\n",
    "\n",
    "# *Use list comprehension to generate a list of names for the products that are in stock.\n",
    "\n",
    "# - Calculate final prices for in-stock products after discount:\n",
    "\n",
    "# *For products that have a discount, calculate the final price by applying the discount.\n",
    "\n",
    "# *For products with no discount, keep the original price.\n",
    "\n",
    "# - Generate a list of tuples with the product name and its final price.\n",
    "\n",
    "# Example Output:\n",
    "\n",
    "# - In-stock product names: ['Laptop', 'Headphones', 'Smartwatch', 'Keyboard']\n",
    "# - Discounted prices: [('Laptop', 1080.0), ('Headphones', 120.0), ('Smartwatch', 300), ('Keyboard', 85.0)]\n",
    "\n",
    "products = [\n",
    "    {\"name\": \"Laptop\", \"price\": 1200, \"in_stock\": True, \"discount\": 0.1},\n",
    "    {\"name\": \"Smartphone\", \"price\": 800, \"in_stock\": False, \"discount\": 0.05},\n",
    "    {\"name\": \"Headphones\", \"price\": 150, \"in_stock\": True, \"discount\": 0.2},\n",
    "    {\"name\": \"Smartwatch\", \"price\": 300, \"in_stock\": True, \"discount\": 0},\n",
    "    {\"name\": \"Keyboard\", \"price\": 100, \"in_stock\": True, \"discount\": 0.15}\n",
    "]\n",
    "\n",
    "# 1. In-stock product names\n",
    "in_stock_names = [product[\"name\"] for product in products if product[\"in_stock\"]]\n",
    "\n",
    "# 2. Final prices after discount\n",
    "discounted_prices = [\n",
    "    (product[\"name\"], product[\"price\"] * (1 - product[\"discount\"]))\n",
    "    for product in products if product[\"in_stock\"]\n",
    "]\n",
    "\n",
    "\n",
    "print(\"In-stock product names:\", in_stock_names)\n",
    "print(\"Discounted prices:\", discounted_prices)\n"
   ]
  },
  {
   "cell_type": "code",
   "execution_count": 9,
   "id": "6ba02336",
   "metadata": {},
   "outputs": [
    {
     "name": "stdout",
     "output_type": "stream",
     "text": [
      "[2, 4, 6, 8, 10, 12, 14, 16, 18, 20]\n"
     ]
    }
   ],
   "source": [
    "#9.Create a list of even numbers between 1 and 20. (List Comprehension)\n",
    "\n",
    "even_numbers = [num for num in range(1, 21) if num % 2 == 0]\n",
    "\n",
    "print(even_numbers)"
   ]
  },
  {
   "cell_type": "code",
   "execution_count": 10,
   "id": "7906e111",
   "metadata": {},
   "outputs": [
    {
     "name": "stdout",
     "output_type": "stream",
     "text": [
      "[3, 5, 6, 9, 10, 12, 15, 18, 20, 21, 24, 25, 27, 30, 33, 35, 36, 39, 40, 42, 45, 48, 50]\n"
     ]
    }
   ],
   "source": [
    "#10. Create a list of numbers, generate a new list containing only the numbers that are divisible by 3 or 5. (List Comprehension)\n",
    "\n",
    "numbers = list(range(1, 51))  # 1 se 50 tak numbers ki list\n",
    "divisible_by_3_or_5 = [num for num in numbers if (num % 3 == 0) or (num % 5 == 0)]\n",
    "\n",
    "print(divisible_by_3_or_5)"
   ]
  }
 ],
 "metadata": {
  "kernelspec": {
   "display_name": "Python 3",
   "language": "python",
   "name": "python3"
  },
  "language_info": {
   "codemirror_mode": {
    "name": "ipython",
    "version": 3
   },
   "file_extension": ".py",
   "mimetype": "text/x-python",
   "name": "python",
   "nbconvert_exporter": "python",
   "pygments_lexer": "ipython3",
   "version": "3.13.2"
  }
 },
 "nbformat": 4,
 "nbformat_minor": 5
}
